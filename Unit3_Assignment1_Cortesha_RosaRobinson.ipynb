{
  "nbformat": 4,
  "nbformat_minor": 0,
  "metadata": {
    "colab": {
      "name": "Unit3_Assignment1_Cortesha_RosaRobinson.ipynb",
      "provenance": [],
      "collapsed_sections": [],
      "authorship_tag": "ABX9TyN4+nTM969GrYcLpUsDEWwe",
      "include_colab_link": true
    },
    "kernelspec": {
      "name": "python3",
      "display_name": "Python 3"
    }
  },
  "cells": [
    {
      "cell_type": "markdown",
      "metadata": {
        "id": "view-in-github",
        "colab_type": "text"
      },
      "source": [
        "<a href=\"https://colab.research.google.com/github/crd3cc04/lambdata_DS3_A1.1_crd3cc04/blob/master/Unit3_Assignment1_Cortesha_RosaRobinson.ipynb\" target=\"_parent\"><img src=\"https://colab.research.google.com/assets/colab-badge.svg\" alt=\"Open In Colab\"/></a>"
      ]
    },
    {
      "cell_type": "code",
      "metadata": {
        "id": "a82NFOhsYDSm",
        "colab_type": "code",
        "colab": {
          "base_uri": "https://localhost:8080/",
          "height": 102
        },
        "outputId": "6dffd242-12ed-4b9f-9cb5-7889e36dd227"
      },
      "source": [
        "#! pip install -i https://test.pypi.org/simple/ my-lambadata2\n"
      ],
      "execution_count": 1,
      "outputs": [
        {
          "output_type": "stream",
          "text": [
            "Looking in indexes: https://test.pypi.org/simple/\n",
            "Collecting my-lambadata2\n",
            "  Downloading https://test-files.pythonhosted.org/packages/22/96/31352f0debd02ea0e593227b41c856a3018e3e178edb9e385ff6a81dd35f/my_lambadata2-2.0-py3-none-any.whl\n",
            "Installing collected packages: my-lambadata2\n",
            "Successfully installed my-lambadata2-2.0\n"
          ],
          "name": "stdout"
        }
      ]
    },
    {
      "cell_type": "code",
      "metadata": {
        "id": "qmeZRtA-fYpD",
        "colab_type": "code",
        "colab": {
          "base_uri": "https://localhost:8080/",
          "height": 153
        },
        "outputId": "54f99708-0314-473d-f02f-526b557a8669"
      },
      "source": [
        "import pandas as pd\n",
        "df = pd.DataFrame({'wk_birthday': pd.date_range('2020-09-20', periods=7)})\n",
        "print(df)"
      ],
      "execution_count": 5,
      "outputs": [
        {
          "output_type": "stream",
          "text": [
            "  wk_birthday\n",
            "0  2020-09-20\n",
            "1  2020-09-21\n",
            "2  2020-09-22\n",
            "3  2020-09-23\n",
            "4  2020-09-24\n",
            "5  2020-09-25\n",
            "6  2020-09-26\n"
          ],
          "name": "stdout"
        }
      ]
    },
    {
      "cell_type": "code",
      "metadata": {
        "id": "M8JAS6qcex-M",
        "colab_type": "code",
        "colab": {
          "base_uri": "https://localhost:8080/",
          "height": 153
        },
        "outputId": "fb83b6bd-9525-4380-ed82-20b30e08d0b8"
      },
      "source": [
        "from my_lambdata2.my_mod2 import wk_birthday\n",
        "\n",
        "df = wk_birthday(df)\n",
        "print(df)"
      ],
      "execution_count": 8,
      "outputs": [
        {
          "output_type": "stream",
          "text": [
            "  wk_birthday  Year  Month  Day\n",
            "0  2020-09-20  2020      9   20\n",
            "1  2020-09-21  2020      9   21\n",
            "2  2020-09-22  2020      9   22\n",
            "3  2020-09-23  2020      9   23\n",
            "4  2020-09-24  2020      9   24\n",
            "5  2020-09-25  2020      9   25\n",
            "6  2020-09-26  2020      9   26\n"
          ],
          "name": "stdout"
        }
      ]
    }
  ]
}